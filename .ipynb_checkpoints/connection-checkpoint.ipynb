{
 "cells": [
  {
   "cell_type": "code",
   "execution_count": 1,
   "id": "4a623c8c",
   "metadata": {},
   "outputs": [],
   "source": [
    "# make connection to twitter API and get client"
   ]
  },
  {
   "cell_type": "code",
   "execution_count": null,
   "id": "9ea580d9",
   "metadata": {},
   "outputs": [],
   "source": [
    "tweepy_client = tweepy.Client(\n",
    "    bearer_token=bearer_token,\n",
    ")"
   ]
  }
 ],
 "metadata": {
  "kernelspec": {
   "display_name": "Python 3 (ipykernel)",
   "language": "python",
   "name": "python3"
  },
  "language_info": {
   "codemirror_mode": {
    "name": "ipython",
    "version": 3
   },
   "file_extension": ".py",
   "mimetype": "text/x-python",
   "name": "python",
   "nbconvert_exporter": "python",
   "pygments_lexer": "ipython3",
   "version": "3.9.7"
  }
 },
 "nbformat": 4,
 "nbformat_minor": 5
}
