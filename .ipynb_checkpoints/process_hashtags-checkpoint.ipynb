{
 "cells": [
  {
   "cell_type": "code",
   "execution_count": 3,
   "id": "ea4eb1d6",
   "metadata": {},
   "outputs": [],
   "source": [
    "# Configurations"
   ]
  },
  {
   "cell_type": "code",
   "execution_count": null,
   "id": "a7dadcc3",
   "metadata": {},
   "outputs": [],
   "source": [
    "bearer_token = \"AAAAAAAAAAAAAAAAAAAAAAViYwEAAAAALxdCkeh63iViiIUgv8KWF56LGRo%3DixyuOR6x84oRIXvZevL50kTYYTPiLlaodjZMoktOh44CuXXIMV\"\n",
    "consumer_key = \"Wq5m5nQ9AofwXOY2Bvvp0aSK4\"\n",
    "consumer_secret = \"ZI5roi2mMetwWfEleQ3w5WD6XJ6szrCIVRGz1P0gYANEWD03mO\"\n",
    "access_token = \"1118603785797079045-Y7lO4GFuWDtgah5Lc6IaNta9yBpimX\"\n",
    "access_token_secret = \"FRXZh6qp1KwjCIG4vYU6cprJmjaELhAZwkTYFJ4BS0I76\""
   ]
  }
 ],
 "metadata": {
  "kernelspec": {
   "display_name": "Python 3 (ipykernel)",
   "language": "python",
   "name": "python3"
  },
  "language_info": {
   "codemirror_mode": {
    "name": "ipython",
    "version": 3
   },
   "file_extension": ".py",
   "mimetype": "text/x-python",
   "name": "python",
   "nbconvert_exporter": "python",
   "pygments_lexer": "ipython3",
   "version": "3.9.7"
  }
 },
 "nbformat": 4,
 "nbformat_minor": 5
}
